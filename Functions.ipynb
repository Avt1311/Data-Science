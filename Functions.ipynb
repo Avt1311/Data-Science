{
  "nbformat": 4,
  "nbformat_minor": 0,
  "metadata": {
    "colab": {
      "provenance": []
    },
    "kernelspec": {
      "name": "python3",
      "display_name": "Python 3"
    },
    "language_info": {
      "name": "python"
    }
  },
  "cells": [
    {
      "cell_type": "markdown",
      "source": [
        "# Function\n"
      ],
      "metadata": {
        "id": "cjJGkqZUU5JM"
      }
    },
    {
      "cell_type": "markdown",
      "source": [
        "Theory Question\n",
        "\n",
        "1. What is the difference between a function and a method in Python?\n",
        " - A function is a block of reusable code that is defined using the def keyword and can exist independently of any object.\n",
        " -A method is a function that is associated with an object and is called on that object. Methods are defined within a class and typically operate on the instance of that class.\n",
        "\n",
        "2. Explain the concept of function arguments and parameters in Python?\n",
        " - Parameters: Variables that are defined in the function’s definition and are used to accept inputs.\n",
        " - Arguments: Actual values passed to the function when it is called.\n",
        "\n",
        "3. What are the different ways to define and call a function in Python?\n",
        " - Different ways to call and define a function are:\n",
        "  -Defined using def and called with their name.\n",
        "  - Anonymous (lambda functions) and called directly or assigned to a variable.\n",
        "\n",
        "4. What is the purpose of the `return` statement in a Python function?\n",
        " - The return statement is used to send a result back to the caller.\n",
        "  - e.g :  def square(x):\n",
        "           return x * x\n",
        "          print(square(5))\n",
        "5. What are iterators in Python and how do they differ from iterables?\n",
        " - An iterable is an object that can return an iterator (e.g., lists, strings).\n",
        " -An iterator is an object that implements the __iter__() and __next__() methods.\n",
        "\n",
        "6. Explain the concept of generators in Python and how they are defined?\n",
        " - Generators are a type of iterator defined using a function and yield keyword.\n",
        " - e.g:   def gen():\n",
        "         for i in range(3):\n",
        "          yield i\n",
        "\n",
        "7. What are the advantages of using generators over regular functions?\n",
        "- Advantage of Generators are:\n",
        " - Memory-efficient for large datasets.\n",
        " -Lazy evaluation (values are generated as needed).\n",
        "\n",
        "8. What is a lambda function in Python and when is it typically used?\n",
        " - A lambda function is an anonymous, single-expression function defined using the lambda keyword.\n",
        "\n",
        "9. Explain the purpose and usage of the `map()` function in Python.\n",
        " - The map() function applies a given function to all items in an iterable.\n",
        "\n",
        "10. . What is the difference between `map()`, `reduce()`, and `filter()` functions in Python?\n",
        "- The difference between map(), reduce(), and filter() functions in Python are:\n",
        " - map(): Transforms each element using a function.\n",
        "\n",
        "  - filter(): Filters elements based on a condition.\n",
        "\n",
        "  - reduce(): Applies a function cumulatively to reduce a sequence into a single value.\n",
        "\n",
        "11. Using pen & Paper write the internal mechanism for sum operation using  reduce function on this given\n",
        "list:[47,11,42,13]; ?\n",
        "\n",
        " - Answer in  attachement\n",
        "\n"
      ],
      "metadata": {
        "id": "M4aSsLiMU87t"
      }
    },
    {
      "cell_type": "markdown",
      "source": [
        "# Practical Questions"
      ],
      "metadata": {
        "id": "soMlKuRxbsDh"
      }
    },
    {
      "cell_type": "code",
      "source": [
        "# 1 . Write a Python function that takes a list of numbers as input and returns the sum of all even numbers in the list.\n",
        "\n",
        "def sum_of_evens(numbers):\n",
        "    return sum(num for num in numbers if num % 2 == 0)"
      ],
      "metadata": {
        "id": "H0dhvVqibzCI"
      },
      "execution_count": null,
      "outputs": []
    },
    {
      "cell_type": "code",
      "source": [
        "# 2. Create a Python function that accepts a string and returns the reverse of that string?\n",
        "\n",
        "def reverse_string(s):\n",
        "    return s[::-1]"
      ],
      "metadata": {
        "id": "3oy3RIJjcYOi"
      },
      "execution_count": null,
      "outputs": []
    },
    {
      "cell_type": "code",
      "source": [
        "# 3. Implement a Python function that takes a list of integers and returns a new list containing the squares of each number.\n",
        "\n",
        "def square_list(numbers):\n",
        "    return [x ** 2 for x in numbers]"
      ],
      "metadata": {
        "id": "PIN3ZUBVclLy"
      },
      "execution_count": null,
      "outputs": []
    },
    {
      "cell_type": "code",
      "source": [
        "# 4. Write a Python function that checks if a given number is prime or not from 1 to 200?\n",
        "\n",
        "def is_prime(num):\n",
        "    if num < 2:\n",
        "        return False\n",
        "    for i in range(2, int(num ** 0.5) + 1):\n",
        "        if num % i == 0:\n",
        "            return False\n",
        "    return True"
      ],
      "metadata": {
        "id": "hPRz9t-uc09P"
      },
      "execution_count": null,
      "outputs": []
    },
    {
      "cell_type": "code",
      "source": [
        "# 5. Create an iterator class in Python that generates the Fibonacci sequence up to a specified number of terms?\n",
        "\n",
        "class Fibonacci:\n",
        "    def __init__(self, terms):\n",
        "        self.terms = terms\n",
        "        self.count = 0\n",
        "        self.a, self.b = 0, 1\n",
        "\n",
        "    def __iter__(self):\n",
        "        return self\n",
        "\n",
        "    def __next__(self):\n",
        "        if self.count < self.terms:\n",
        "            self.count += 1\n",
        "            result = self.a\n",
        "            self.a, self.b = self.b, self.a + self.b\n",
        "            return result\n",
        "        raise StopIteration"
      ],
      "metadata": {
        "id": "Vv9NZpVMei5g"
      },
      "execution_count": null,
      "outputs": []
    },
    {
      "cell_type": "code",
      "source": [
        "# 6. Write a generator function in Python that yields the powers of 2 up to a given exponent?\n",
        "\n",
        "def powers_of_2(exponent):\n",
        "    for i in range(exponent + 1):\n",
        "        yield 2 ** i"
      ],
      "metadata": {
        "id": "fmLYfdNRejDS"
      },
      "execution_count": null,
      "outputs": []
    },
    {
      "cell_type": "code",
      "source": [
        "# 7. Implement a generator function that reads a file line by line and yields each line as a string?\n",
        "\n",
        "def read_file(file_name):\n",
        "    with open(file_name, 'r') as file:\n",
        "        for line in file:\n",
        "            yield line.strip()"
      ],
      "metadata": {
        "id": "MxIP1w1dejf7"
      },
      "execution_count": null,
      "outputs": []
    },
    {
      "cell_type": "code",
      "source": [
        "# 8. Use a lambda function in Python to sort a list of tuples based on the second element of each tuple.\n",
        "\n",
        "tuples = [(1, 3), (2, 1), (4, 2)]\n",
        "sorted_tuples = sorted(tuples, key=lambda x: x[1])"
      ],
      "metadata": {
        "id": "nIy3olDJejq1"
      },
      "execution_count": null,
      "outputs": []
    },
    {
      "cell_type": "code",
      "source": [
        "# 9 Write a Python program that uses `map()` to convert a list of temperatures from Celsius to Fahrenheit.\n",
        "\n",
        "temps = [0, 20, 30]\n",
        "fahrenheit = list(map(lambda c: c * 9 / 5 + 32, temps))"
      ],
      "metadata": {
        "id": "NtdKI--cejyO"
      },
      "execution_count": null,
      "outputs": []
    },
    {
      "cell_type": "code",
      "source": [
        "# 10 Create a Python program that uses `filter()` to remove all the vowels from a given string.\n",
        "\n",
        "def remove_vowels(s):\n",
        "    return ''.join(filter(lambda x: x.lower() not in 'aeiou', s))\n"
      ],
      "metadata": {
        "id": "xEEvpw_hej45"
      },
      "execution_count": null,
      "outputs": []
    },
    {
      "cell_type": "code",
      "source": [
        "# 11. Write a Python program, which returns a list with 2-tuples. Each tuple consists of the order number and the product of the price per item and the quantity. The product should be increased by 10,- € if the value of the order is smaller than 100,00 €. Write a Python program using lambda and map.\n",
        "\n",
        "orders = [\n",
        "    [34587, \"Learning Python\", 4, 40.95],\n",
        "    [98762, \"Programming 101\", 5, 56.80],\n",
        "    [77226, \"Algorithms\", 3, 32.95],\n",
        "]\n",
        "result = list(map(lambda x: (x[0], x[2] * x[3] + 10 if x[2] * x[3] < 100 else x[2] * x[3]), orders))"
      ],
      "metadata": {
        "id": "IObwG7SUekZr"
      },
      "execution_count": null,
      "outputs": []
    }
  ]
}