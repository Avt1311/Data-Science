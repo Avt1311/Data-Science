{
  "nbformat": 4,
  "nbformat_minor": 0,
  "metadata": {
    "colab": {
      "provenance": []
    },
    "kernelspec": {
      "name": "python3",
      "display_name": "Python 3"
    },
    "language_info": {
      "name": "python"
    }
  },
  "cells": [
    {
      "cell_type": "markdown",
      "source": [
        "# Files & Exceptional Handling\n"
      ],
      "metadata": {
        "id": "lCVrqgPWLL_W"
      }
    },
    {
      "cell_type": "markdown",
      "source": [
        "# Theory Questions\n",
        "\n",
        "1. What is the difference between interpreted and compiled languages?\n",
        " - **Compiled languages** (e.g., C, C++) are converted into machine code before execution, making them faster.\n",
        " -**Interpreted languages** (e.g., Python, JavaScript) execute line-by-line, making debugging easier but slower.\n",
        "\n",
        "2. What is exception handling in Python?\n",
        " - It helps handle runtime errors using *try, except, finally*, and *else* blocks.\n",
        "\n",
        "3. What is the purpose of the finally block in exception handling?\n",
        " - The purpose of *finally* block is that it ensures that cleanup code (e.g., closing files) is always executed, regardless of exceptions.\n",
        "\n",
        "4. What is logging in Python?\n",
        " - It records program execution details using the logging module.\n",
        "\n",
        "5.  What is the significance of the __ del__ method in Python?\n",
        " - It is a destructor method that cleans up resources when an object is deleted.\n",
        "\n",
        "6. What is the difference between import and from ... import in Python?\n",
        " - *import module_name* imports the whole module, while from *module_name import* function imports specific functions.\n",
        "\n",
        "7. How can you handle multiple exceptions in Python?\n",
        " - Using multiple except blocks or a single except (Exception1, Exception2) as e: block.\n",
        "\n",
        "8.  What is the purpose of the with statement when handling files in Python?\n",
        " - It ensures files are closed automatically after operations.\n",
        "\n",
        "9. What is the difference between multithreading and multiprocessing?\n",
        " - Multithreading shares memory, while multiprocessing runs separate processes with independent memory.\n",
        "\n",
        "10. What are the advantages of using logging in a program?\n",
        " - It helps with debugging, monitoring, and error tracking.\n",
        "\n",
        "11. What is memory management in Python?\n",
        " - Memory management in python  is handled automatically using garbage collection and reference counting.\n",
        "\n",
        "12. What are the basic steps involved in exception handling in Python?\n",
        " - Use try to enclose risky code, except to catch exceptions, finally for cleanup.\n",
        "\n",
        "13. Why is memory management important in Python?\n",
        " - It prevents memory leaks and optimizes performance.\n",
        "\n",
        "14. What is the role of try and except in exception handling?\n",
        " - *try* contains code that might fail, and *except* handles the errors.\n",
        "\n",
        "15. How does Python's garbage collection system work?\n",
        " - It uses reference counting and cyclic garbage collection to free memory.\n",
        "\n",
        "16. What is the purpose of the else block in exception handling?\n",
        " - The purpose of else block is that it runs code only if no exceptions occur in try.\n",
        "\n",
        "17. What are the common logging levels in Python?\n",
        " - Common logging levels in Python are\n",
        "     - DEBUG, INFO, WARNING, ERROR, CRITICAL.\n",
        "\n",
        "18. What is the difference between os.fork() and multiprocessing in Python?\n",
        " - *os.fork()* creates child processes in UNIX, while multiprocessing works across OS.\n",
        "\n",
        "19. What is the importance of closing a file in Python?\n",
        " - Importance of closing a file in Python:\n",
        "     - Prevents resource leaks and data corruption.\n",
        "\n",
        "20. What is the difference between file.read() and file.readline() in Python?\n",
        "  - * read()* reads the whole file, while *readline()* reads one line.\n",
        "\n",
        "21. What is the logging module in Python used for?\n",
        " - Used to log messages for debugging and monitoring.\n",
        "\n",
        "22. What is the os module in Python used for in file handling?\n",
        " - Provides OS interaction, like file handling and directory operations.\n",
        "\n",
        "23. What are the challenges associated with memory management in Python?\n",
        " - Garbage collection overhead and circular references.\n",
        "\n",
        "24.  How do you raise an exception manually in Python?\n",
        " - Using *raise Exception(\"Custom error message\").*\n",
        "\n",
        "25. Why is it important to use multithreading in certain applications?\n",
        " - It improves responsiveness and efficiency in I/O-bound tasks.\n"
      ],
      "metadata": {
        "id": "0robhdHrLTiN"
      }
    },
    {
      "cell_type": "markdown",
      "source": [
        "# Practical Questions"
      ],
      "metadata": {
        "id": "nttwqhYXPyfQ"
      }
    },
    {
      "cell_type": "code",
      "source": [
        "#1. How can you open a file for writing in Python and write a string to it?\n",
        "\n",
        "with open(\"output.txt\", \"w\") as file:\n",
        "    file.write(\"Hello, World!\")"
      ],
      "metadata": {
        "id": "d3eRRrEnPwNM"
      },
      "execution_count": 1,
      "outputs": []
    },
    {
      "cell_type": "code",
      "source": [
        "#2. Write a Python program to read the contents of a file and print each line?\n",
        "\n",
        "with open(\"output.txt\", \"r\") as file:\n",
        "    for line in file:\n",
        "        print(line.strip())\n"
      ],
      "metadata": {
        "colab": {
          "base_uri": "https://localhost:8080/"
        },
        "id": "WJK6lfT9QJuX",
        "outputId": "d5bc06ae-046f-44cb-b873-54f572369d8f"
      },
      "execution_count": 4,
      "outputs": [
        {
          "output_type": "stream",
          "name": "stdout",
          "text": [
            "Hello, World!\n"
          ]
        }
      ]
    },
    {
      "cell_type": "code",
      "source": [
        "#3. How would you handle a case where the file doesn't exist while trying to open it for reading?\n",
        "\n",
        "try:\n",
        "    with open(\"nonexistent.txt\", \"r\") as file:\n",
        "        content = file.read()\n",
        "except FileNotFoundError:\n",
        "    print(\"File not found!\")\n"
      ],
      "metadata": {
        "colab": {
          "base_uri": "https://localhost:8080/"
        },
        "id": "6Rkwbt20QZyS",
        "outputId": "f28ba5fd-c202-4c6f-dafd-9c0ab68eb527"
      },
      "execution_count": 5,
      "outputs": [
        {
          "output_type": "stream",
          "name": "stdout",
          "text": [
            "File not found!\n"
          ]
        }
      ]
    },
    {
      "cell_type": "code",
      "source": [
        "#4. Write a Python script that reads from one file and writes its content to another file?\n",
        "\n",
        "with open(\"source.txt\", \"r\") as source, open(\"destination.txt\", \"w\") as dest:\n",
        "    dest.write(source.read())\n"
      ],
      "metadata": {
        "id": "pR28EmPyQiP0"
      },
      "execution_count": 8,
      "outputs": []
    },
    {
      "cell_type": "code",
      "source": [
        "# 5. How would you catch and handle division by zero error in Python?\n",
        "\n",
        "try:\n",
        "    result = 10 / 0\n",
        "except ZeroDivisionError:\n",
        "    print(\"Cannot divide by zero!\")\n"
      ],
      "metadata": {
        "colab": {
          "base_uri": "https://localhost:8080/"
        },
        "id": "au_s-yU8QwIb",
        "outputId": "5bd1ce65-4fb1-4e01-d022-26397e5a6b8e"
      },
      "execution_count": 9,
      "outputs": [
        {
          "output_type": "stream",
          "name": "stdout",
          "text": [
            "Cannot divide by zero!\n"
          ]
        }
      ]
    },
    {
      "cell_type": "code",
      "source": [
        "# 6. Write a Python program that logs an error message to a log file when a division by zero exception occurs?\n",
        "\n",
        "import logging\n",
        "logging.basicConfig(filename=\"error.log\", level=logging.ERROR)\n",
        "try:\n",
        "    result = 10 / 0\n",
        "except ZeroDivisionError as e:\n",
        "    logging.error(f\"Error: {e}\")\n"
      ],
      "metadata": {
        "colab": {
          "base_uri": "https://localhost:8080/"
        },
        "id": "7g43ii9IQ8on",
        "outputId": "75177e0b-6b38-4e9c-cc90-2ee5db10d52e"
      },
      "execution_count": 10,
      "outputs": [
        {
          "output_type": "stream",
          "name": "stderr",
          "text": [
            "ERROR:root:Error: division by zero\n"
          ]
        }
      ]
    },
    {
      "cell_type": "code",
      "source": [
        "# 7.  How do you log information at different levels (INFO, ERROR, WARNING) in Python using the logging module?\n",
        "\n",
        "import logging\n",
        "logging.basicConfig(level=logging.DEBUG)\n",
        "logging.info(\"This is an info message\")\n",
        "logging.warning(\"This is a warning\")\n",
        "logging.error(\"This is an error\")\n"
      ],
      "metadata": {
        "colab": {
          "base_uri": "https://localhost:8080/"
        },
        "id": "5lagloJoRD9n",
        "outputId": "1d2ca89c-c53c-4c24-e42f-337533d51396"
      },
      "execution_count": 11,
      "outputs": [
        {
          "output_type": "stream",
          "name": "stderr",
          "text": [
            "WARNING:root:This is a warning\n",
            "ERROR:root:This is an error\n"
          ]
        }
      ]
    },
    {
      "cell_type": "code",
      "source": [
        "# 8. Write a program to handle a file opening error using exception handling?\n",
        "\n",
        "try:\n",
        "    with open(\"unknown.txt\", \"r\") as file:\n",
        "        content = file.read()\n",
        "except FileNotFoundError:\n",
        "    print(\"Error: File not found!\")\n"
      ],
      "metadata": {
        "colab": {
          "base_uri": "https://localhost:8080/"
        },
        "id": "5XyLlJZARNHY",
        "outputId": "a7c9c5d2-1bab-43cc-f827-e8cb953907b4"
      },
      "execution_count": 12,
      "outputs": [
        {
          "output_type": "stream",
          "name": "stdout",
          "text": [
            "Error: File not found!\n"
          ]
        }
      ]
    },
    {
      "cell_type": "code",
      "source": [
        "# 9. How can you read a file line by line and store its content in a list in Python?\n",
        "\n",
        "with open('filename.txt', 'r') as file:\n",
        "    lines = []\n",
        "    for line in file:\n",
        "        lines.append(line.strip())\n",
        "print(lines)\n"
      ],
      "metadata": {
        "id": "CKYjuHvVRVfP"
      },
      "execution_count": 14,
      "outputs": []
    },
    {
      "cell_type": "code",
      "source": [
        "# 10. How can you append data to an existing file in Python?\n",
        "\n",
        "with open(\"append.txt\", \"a\") as file:\n",
        "    file.write(\"\\nAppended text\")\n"
      ],
      "metadata": {
        "id": "Z2NgeR9pRgl7"
      },
      "execution_count": null,
      "outputs": []
    },
    {
      "cell_type": "code",
      "source": [
        "# 11. Write a Python program that uses a try-except block to handle an error when attempting to access a dictionary key that doesn't exist?\n",
        "\n",
        "try:\n",
        "    data = {\"name\": \"Alice\"}\n",
        "    print(data[\"age\"])\n",
        "except KeyError:\n",
        "    print(\"Key not found!\")\n"
      ],
      "metadata": {
        "colab": {
          "base_uri": "https://localhost:8080/"
        },
        "id": "6uCf8h8LR1VN",
        "outputId": "5ff71bf4-13a4-4357-cfd3-8c5aa4182e87"
      },
      "execution_count": 15,
      "outputs": [
        {
          "output_type": "stream",
          "name": "stdout",
          "text": [
            "Key not found!\n"
          ]
        }
      ]
    },
    {
      "cell_type": "code",
      "source": [
        "#12. Write a program that demonstrates using multiple except blocks to handle different types of exceptions?\n",
        "\n",
        "try:\n",
        "    x = 10 / 0\n",
        "except ZeroDivisionError:\n",
        "    print(\"Cannot divide by zero!\")\n",
        "except TypeError:\n",
        "    print(\"Type error occurred!\")\n"
      ],
      "metadata": {
        "colab": {
          "base_uri": "https://localhost:8080/"
        },
        "id": "AU36VljKSCgt",
        "outputId": "e10cbe08-d149-446f-d6d9-081de22c396e"
      },
      "execution_count": 16,
      "outputs": [
        {
          "output_type": "stream",
          "name": "stdout",
          "text": [
            "Cannot divide by zero!\n"
          ]
        }
      ]
    },
    {
      "cell_type": "code",
      "source": [
        "# 13. How would you check if a file exists before attempting to read it in Python ?\n",
        "\n",
        "import os\n",
        "if os.path.exists(\"file.txt\"):\n",
        "    with open(\"file.txt\", \"r\") as file:\n",
        "        content = file.read()\n"
      ],
      "metadata": {
        "id": "2V1mgHdeSK4r"
      },
      "execution_count": null,
      "outputs": []
    },
    {
      "cell_type": "code",
      "source": [
        "# 14. Write a program that uses the logging module to log both informational and error messages?\n",
        "\n",
        "import logging\n",
        "logging.basicConfig(filename=\"app.log\", level=logging.INFO)\n",
        "logging.info(\"Application started\")\n",
        "logging.error(\"An error occurred\")\n"
      ],
      "metadata": {
        "colab": {
          "base_uri": "https://localhost:8080/"
        },
        "id": "C8MZke1YSQjD",
        "outputId": "8641bb6b-f2f9-4963-db30-1a3b41d98836"
      },
      "execution_count": 17,
      "outputs": [
        {
          "output_type": "stream",
          "name": "stderr",
          "text": [
            "ERROR:root:An error occurred\n"
          ]
        }
      ]
    },
    {
      "cell_type": "code",
      "source": [
        "# 15. Write a Python program that prints the content of a file and handles the case when the file is empty?\n",
        "\n",
        "with open(\"file.txt\", \"r\") as file:\n",
        "    content = file.read()\n",
        "    if content:\n",
        "        print(content)\n",
        "    else:\n",
        "        print(\"File is empty!\")\n"
      ],
      "metadata": {
        "id": "Y5y6KNNKSY-p"
      },
      "execution_count": null,
      "outputs": []
    },
    {
      "cell_type": "code",
      "source": [
        "# 16. Demonstrate how to use memory profiling to check the memory usage of a small program?\n",
        "\n",
        "import memory_profiler\n",
        "def my_function():\n",
        "    x = [i for i in range(1000000)]\n",
        "    return x\n",
        "print(memory_profiler.memory_usage(my_function))\n",
        "\n",
        "\n"
      ],
      "metadata": {
        "id": "AhOCKbofSgSx"
      },
      "execution_count": 20,
      "outputs": []
    },
    {
      "cell_type": "code",
      "source": [
        "# 17. Write a Python program to create and write a list of numbers to a file, one number per line?\n",
        "\n",
        "with open(\"numbers.txt\", \"w\") as file:\n",
        "    for i in range(10):\n",
        "        file.write(f\"{i}\\n\")\n"
      ],
      "metadata": {
        "id": "BTApDWnIS3nf"
      },
      "execution_count": null,
      "outputs": []
    },
    {
      "cell_type": "code",
      "source": [
        "# 18.  How would you implement a basic logging setup that logs to a file with rotation after 1MB ?\n",
        "\n",
        "from logging.handlers import RotatingFileHandler\n",
        "logger = logging.getLogger(\"RotatingLog\")\n",
        "handler = RotatingFileHandler(\"app.log\", maxBytes=1048576, backupCount=5)\n",
        "logger.addHandler(handler)\n"
      ],
      "metadata": {
        "id": "LtzelMUNS9so"
      },
      "execution_count": 21,
      "outputs": []
    },
    {
      "cell_type": "code",
      "source": [
        "# 19. Write a program that handles both IndexError and KeyError using a try-except block?\n",
        "\n",
        "def handle_errors():\n",
        "    my_list = [1, 2, 3]\n",
        "    my_dict = {'a': 10, 'b': 20}\n",
        "\n",
        "    try:\n",
        "        print(\"List element:\", my_list[5])\n",
        "        print(\"Dictionary value:\", my_dict['c'])\n",
        "\n",
        "    except IndexError:\n",
        "        print(\"IndexError: Tried to access an index that does not exist.\")\n",
        "\n",
        "    except KeyError:\n",
        "        print(\"KeyError: Tried to access a key that does not exist in the dictionary.\")\n",
        "\n",
        "handle_errors()\n"
      ],
      "metadata": {
        "colab": {
          "base_uri": "https://localhost:8080/"
        },
        "id": "hmz4YdVMTFiW",
        "outputId": "357de2ff-26bc-4526-df24-c7663e00df32"
      },
      "execution_count": 23,
      "outputs": [
        {
          "output_type": "stream",
          "name": "stdout",
          "text": [
            "IndexError: Tried to access an index that does not exist.\n"
          ]
        }
      ]
    },
    {
      "cell_type": "code",
      "source": [
        "# 20. How would you open a file and read its contents using a context manager in Python?\n",
        "\n",
        "filename = 'example.txt'\n",
        "\n",
        "\n",
        "with open(filename, 'r') as file:\n",
        "    contents = file.read()\n",
        "print(contents)"
      ],
      "metadata": {
        "id": "_EwTd9TYTNH8"
      },
      "execution_count": null,
      "outputs": []
    },
    {
      "cell_type": "code",
      "source": [
        "#21. Write a Python program that reads a file and prints the number of occurrences of a specific word?\n",
        "\n",
        "def count_word_occurrences(file_path, target_word):\n",
        "    try:\n",
        "        with open(file_path, 'r', encoding='utf-8') as file:\n",
        "            content = file.read()\n",
        "            words = content.split()\n",
        "            count = words.count(target_word)\n",
        "            print(f\"The word '{target_word}' appears {count} times in the file.\")\n",
        "    except FileNotFoundError:\n",
        "        print(\"Error: The file was not found.\")\n",
        "    except Exception as e:\n",
        "        print(f\"An unexpected error occurred: {e}\")\n",
        "\n",
        "file_path = 'example.txt'\n",
        "target_word = 'your_word'\n",
        "count_word_occurrences(file_path, target_word)\n"
      ],
      "metadata": {
        "id": "y5UJAzIFUAgX"
      },
      "execution_count": null,
      "outputs": []
    },
    {
      "cell_type": "code",
      "source": [
        "# 22. How can you check if a file is empty before attempting to read its content?\n",
        "\n",
        "def read_file_if_not_empty(filename):\n",
        "    try:\n",
        "        with open(filename, 'r') as file:\n",
        "            contents = file.read()\n",
        "            if contents:\n",
        "                print(f\"Contents of the file '{filename}':\\n{contents}\")\n",
        "            else:\n",
        "                print(f\"The file '{filename}' is empty.\")\n",
        "    except FileNotFoundError:\n",
        "        print(f\"Error: The file '{filename}' was not found.\")\n",
        "    except Exception as e:\n",
        "        print(f\"An error occurred: {e}\")\n",
        "\n",
        "if __name__ == \"__main__\":\n",
        "    filename = 'example.txt'\n",
        "    read_file_if_not_empty(filename)"
      ],
      "metadata": {
        "id": "80TuEgSiUWFm"
      },
      "execution_count": null,
      "outputs": []
    },
    {
      "cell_type": "code",
      "source": [
        "# 23. Write a Python program that writes to a log file when an error occurs during file handling.?\n",
        "\n",
        "import logging\n",
        "logging.basicConfig(filename=\"file_errors.log\", level=logging.ERROR)\n",
        "try:\n",
        "    with open(\"missing.txt\", \"r\") as file:\n",
        "        print(file.read())\n",
        "except FileNotFoundError as e:\n",
        "    logging.error(f\"File error: {e}\")\n"
      ],
      "metadata": {
        "colab": {
          "base_uri": "https://localhost:8080/"
        },
        "id": "ggmHO5wDUz7A",
        "outputId": "7de04a7f-6d5f-4eec-930e-87f24c61baec"
      },
      "execution_count": 25,
      "outputs": [
        {
          "output_type": "stream",
          "name": "stderr",
          "text": [
            "ERROR:root:File error: [Errno 2] No such file or directory: 'missing.txt'\n"
          ]
        }
      ]
    }
  ]
}