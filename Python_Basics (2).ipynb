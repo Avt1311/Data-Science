{
  "nbformat": 4,
  "nbformat_minor": 0,
  "metadata": {
    "colab": {
      "provenance": []
    },
    "kernelspec": {
      "name": "python3",
      "display_name": "Python 3"
    },
    "language_info": {
      "name": "python"
    }
  },
  "cells": [
    {
      "cell_type": "markdown",
      "source": [
        "#Python Basics\n"
      ],
      "metadata": {
        "id": "VteUUilYh9sP"
      }
    },
    {
      "cell_type": "markdown",
      "source": [
        "1. What is Python, and why is it popular?\n",
        " - Python is a programming language that is easy to understand and write and also it is very compatible, that making it a popular choice among developers and programmers.\n",
        "\n",
        "2. What is an interpreter in Python?\n",
        "  - The Python interpreter is a computer program that converts each high level program statements into machine code. An interpretertranslates the commands that we write out into code that the computer can understand. An interpreter translate source code one statement at a time.\n",
        "\n",
        "3. What are pre-defined keywords in Python?\n",
        " - Pre-defined keywords in python means that the reserved words in python that have special meaning and cannot be used as identifiers. Example: if, else, while, for, def, import, try, return etc. Keywords are case-sensitive it cannnot be redefined or overridden within a python program.\n",
        "\n",
        "4. Can keywords be used as variable names?\n",
        " - NO, Keywords cannot be used as variable names because keywords are case-sensitive it cannot be redefined or overridden within a python program.\n",
        "\n",
        "5. What is mutability in Python?\n",
        " - In python, mutable means things that can change after their creation, i.e in python mutability affects how objects are stored and manipulated in memory, impacting performance, memory usage and cocurrency in python programming.\n",
        "\n",
        "6. Why are lists mutable, but tuples are immutable?\n",
        " - List in python are mutable because they allow modifications like adding, removing, or changing elements whereas tuples are immutable because it cannot be changed.\n",
        "\n",
        "7. What is the difference between “==” and “is” operators in Python?\n",
        " -  The \"==\" operator is known as equality operator because it checks for equality of values which means it evaluated whether the values of two objects are same. On the other hand \"is\" operator is known as identity operator because it checks for identity which means it determines whether two variables point to the same object in memory.\n",
        "\n",
        "8. What are logical operators in Python?\n",
        " - Logical Operators in python are used to perform logical operation on boolean values. Example: and, or, not etc.\n",
        "\n",
        "9. What is type casting in Python?\n",
        " - In python type casting is also referred as type conversion which means type casting is the process of changing one data type into another. In Python there is some built in function for type casting i.e  int(), float(), str(), list(), tuple(), dict(), etc.\n",
        "\n",
        "10. What is the difference between implicit and explicit type casting?\n",
        " - Implicit type casting also known as type coercion, it is automatically performed by Python when it converts a smaller data type to a larger one (e.g., int to float) to prevent data loss.Explicit type casting is done manually by the programmer using functions like int(), float(), or str(). This is used to convert one data type to another explicitly, even when it may result in data loss.\n",
        "\n",
        "11. What is the purpose of conditional statements in Python?\n",
        " - Conditional statements in Python are used to execute certain blocks of code based on specific conditions. These statements help control the flow of a program, making it behave differently in different situations. There different type of conditional statement in python i.e if, else elif.\n",
        "\n",
        "12. How does the elif statement work?\n",
        " - The elif statement in Python is used to handle multiple conditions in an if-elif-else block. It stands for \"else if\" and allows checking additional conditions if the previous if or elif conditions are False. The elif block executes only when its condition evaluates to True, and no further conditions are checked afterward. If none of the conditions are met, the optional else block is executed.\n",
        "\n",
        "13. What is the difference between for and while loops?\n",
        " - The key difference between for an while loops are that for loops are generally used for iterating over collections or fixed ranges and while loops are used when the condition of repetition is based on runtime logic.\n",
        "\n",
        "14. Describe a scenario where a while loop is more suitable than a for loop.\n",
        " - A while loop is more suitable than a for loop in scenarios where the number of iterations is unknown or depends on a condition that needs to be evaluated dynamically during runtime. For example when we printing a pattern then the use of while loop is become difficult and leads to error in program but with for loop it become easy to write and understand and also the chance of error is less.   "
      ],
      "metadata": {
        "id": "KAxfqfHF80tu"
      }
    },
    {
      "cell_type": "markdown",
      "source": [
        "#Coding"
      ],
      "metadata": {
        "id": "-H5vCqHxKaYP"
      }
    },
    {
      "cell_type": "code",
      "source": [
        "# 1 Write a Python program to print \"Hello, World!_\n",
        "\n",
        "print(\"Hello, World!\")\n"
      ],
      "metadata": {
        "colab": {
          "base_uri": "https://localhost:8080/"
        },
        "id": "i2fVPQi0KeVG",
        "outputId": "a40629a0-0129-430b-cc93-6f43782e68cc"
      },
      "execution_count": null,
      "outputs": [
        {
          "output_type": "stream",
          "name": "stdout",
          "text": [
            "Hello, World!\n"
          ]
        }
      ]
    },
    {
      "cell_type": "code",
      "source": [
        "# 2 Write a Python program that displays your name and age?\n",
        "\n",
        "name = \"Aviral Tripathi\"\n",
        "age = 21\n",
        "\n",
        "print(\"My name is\", name)\n",
        "print(\"My age is\", age)"
      ],
      "metadata": {
        "colab": {
          "base_uri": "https://localhost:8080/"
        },
        "id": "LK_H2b3nK2Ux",
        "outputId": "64d3e1f0-bc67-4ab3-96c7-fd3889c58a15"
      },
      "execution_count": null,
      "outputs": [
        {
          "output_type": "stream",
          "name": "stdout",
          "text": [
            "My name is Aviral Tripathi\n",
            "My age is 21\n"
          ]
        }
      ]
    },
    {
      "cell_type": "code",
      "source": [
        "# 3 Write code to print all the pre-defined keywords in Python using the keyword library?\n",
        "\n",
        "help(\"keywords\")"
      ],
      "metadata": {
        "colab": {
          "base_uri": "https://localhost:8080/"
        },
        "id": "XB0lyHWoLpds",
        "outputId": "26f19d2f-8c95-4f39-f43e-86607d1f676d"
      },
      "execution_count": null,
      "outputs": [
        {
          "output_type": "stream",
          "name": "stdout",
          "text": [
            "\n",
            "Here is a list of the Python keywords.  Enter any keyword to get more help.\n",
            "\n",
            "False               class               from                or\n",
            "None                continue            global              pass\n",
            "True                def                 if                  raise\n",
            "and                 del                 import              return\n",
            "as                  elif                in                  try\n",
            "assert              else                is                  while\n",
            "async               except              lambda              with\n",
            "await               finally             nonlocal            yield\n",
            "break               for                 not                 \n",
            "\n"
          ]
        }
      ]
    },
    {
      "cell_type": "code",
      "source": [
        "# 4 Write a program that checks if a given word is a Python keyword?\n",
        "\n",
        "import keyword\n",
        "keywords = keyword.kwlist\n",
        "word = input(\"Enter a word: \")\n",
        "if word in keywords:\n",
        "    print(f\"'{word}' is a Python keyword.\")\n",
        "else:\n",
        "    print(f\"'{word}' is not a Python keyword.\")\n",
        "\n"
      ],
      "metadata": {
        "colab": {
          "base_uri": "https://localhost:8080/"
        },
        "id": "cAwKRar1MqJJ",
        "outputId": "18866930-7b46-4066-af65-f1aad366cc02"
      },
      "execution_count": null,
      "outputs": [
        {
          "output_type": "stream",
          "name": "stdout",
          "text": [
            "Enter a word: for\n",
            "'for' is a Python keyword.\n"
          ]
        }
      ]
    },
    {
      "cell_type": "code",
      "source": [
        "# 5 Create a list and tuple in Python, and demonstrate how attempting to change an element works differently for each?\n",
        "\n",
        "my_list = [10, 20, 30]\n",
        "my_tuple = (10, 20, 30)\n",
        "\n",
        "print(\"Original list:\", my_list)\n",
        "my_list[1] = 25\n",
        "print(\"Modified list:\", my_list)\n",
        "\n",
        "print(\"\\nOriginal tuple:\", my_tuple)\n",
        "my_tuple[1] = 25\n",
        "\n"
      ],
      "metadata": {
        "colab": {
          "base_uri": "https://localhost:8080/",
          "height": 263
        },
        "id": "XFd7qzxHNck-",
        "outputId": "87b0e781-86d8-434a-b3d0-63e91e766531"
      },
      "execution_count": null,
      "outputs": [
        {
          "output_type": "stream",
          "name": "stdout",
          "text": [
            "Original list: [10, 20, 30]\n",
            "Modified list: [10, 25, 30]\n",
            "\n",
            "Original tuple: (10, 20, 30)\n"
          ]
        },
        {
          "output_type": "error",
          "ename": "TypeError",
          "evalue": "'tuple' object does not support item assignment",
          "traceback": [
            "\u001b[0;31m---------------------------------------------------------------------------\u001b[0m",
            "\u001b[0;31mTypeError\u001b[0m                                 Traceback (most recent call last)",
            "\u001b[0;32m<ipython-input-9-82c6caca4f42>\u001b[0m in \u001b[0;36m<cell line: 11>\u001b[0;34m()\u001b[0m\n\u001b[1;32m      9\u001b[0m \u001b[0;34m\u001b[0m\u001b[0m\n\u001b[1;32m     10\u001b[0m \u001b[0mprint\u001b[0m\u001b[0;34m(\u001b[0m\u001b[0;34m\"\\nOriginal tuple:\"\u001b[0m\u001b[0;34m,\u001b[0m \u001b[0mmy_tuple\u001b[0m\u001b[0;34m)\u001b[0m\u001b[0;34m\u001b[0m\u001b[0;34m\u001b[0m\u001b[0m\n\u001b[0;32m---> 11\u001b[0;31m \u001b[0mmy_tuple\u001b[0m\u001b[0;34m[\u001b[0m\u001b[0;36m1\u001b[0m\u001b[0;34m]\u001b[0m \u001b[0;34m=\u001b[0m \u001b[0;36m25\u001b[0m\u001b[0;34m\u001b[0m\u001b[0;34m\u001b[0m\u001b[0m\n\u001b[0m\u001b[1;32m     12\u001b[0m \u001b[0;34m\u001b[0m\u001b[0m\n",
            "\u001b[0;31mTypeError\u001b[0m: 'tuple' object does not support item assignment"
          ]
        }
      ]
    },
    {
      "cell_type": "code",
      "source": [
        "# 6 Write a function to demonstrate the behavior of mutable and immutable arguments?\n",
        "# Not Taught In this module."
      ],
      "metadata": {
        "id": "SyRKYQ91OcpP"
      },
      "execution_count": null,
      "outputs": []
    },
    {
      "cell_type": "code",
      "source": [
        "# 7 Write a function to demonstrate the behavior of mutable and immutable arguments?\n",
        "# Not taught in this module.\n",
        ""
      ],
      "metadata": {
        "id": "zpJWj-8K-Rzf"
      },
      "execution_count": null,
      "outputs": []
    },
    {
      "cell_type": "code",
      "source": [
        "# 8 Write a program to demonstrate the use of logical operators?\n",
        "\n",
        "age = int(input(\"Enter your age: \"))\n",
        "is_citizen = input(\"Are you a citizen? (yes/no): \").lower() == 'yes'\n",
        "\n",
        "if age >= 18 and is_citizen :  #and operator\n",
        "\n",
        "    print(\"You are eligible to vote.\")\n",
        "else:\n",
        "    print(\"You are not eligible to vote.\")"
      ],
      "metadata": {
        "colab": {
          "base_uri": "https://localhost:8080/"
        },
        "id": "8i8CUom7-gZF",
        "outputId": "34f3e97b-78d6-4095-9b93-705265301232"
      },
      "execution_count": 3,
      "outputs": [
        {
          "output_type": "stream",
          "name": "stdout",
          "text": [
            "Enter your age: 12\n",
            "Are you a citizen? (yes/no): yes\n",
            "You are not eligible to vote.\n"
          ]
        }
      ]
    },
    {
      "cell_type": "code",
      "source": [
        "# 9 Write a Python program to convert user input from string to integer, float, and boolean types?\n",
        "\n",
        "# we can use typecasting method for this. // Not taught in class this type of questions.\n"
      ],
      "metadata": {
        "id": "3YOqiEWD_3MT"
      },
      "execution_count": null,
      "outputs": []
    },
    {
      "cell_type": "code",
      "source": [
        "# 10 Write code to demonstrate type casting with list elements?\n",
        "# N/A"
      ],
      "metadata": {
        "id": "LbgHK_H9A0ca"
      },
      "execution_count": null,
      "outputs": []
    },
    {
      "cell_type": "code",
      "source": [
        "# 11 Write a program that checks if a number is positive, negative, or zero?\n",
        "\n",
        "number = int(input(\"Enter a number: \"))\n",
        "\n",
        "if number > 0:\n",
        "    print(\"The number is positive.\")\n",
        "elif number < 0:\n",
        "    print(\"The number is negative.\")\n",
        "else:\n",
        "    print(\"The number is zero.\")\n"
      ],
      "metadata": {
        "colab": {
          "base_uri": "https://localhost:8080/"
        },
        "id": "HwFkD1t3BTC7",
        "outputId": "b5a7c0f4-d844-44db-f9f2-6026956e1a4c"
      },
      "execution_count": 8,
      "outputs": [
        {
          "output_type": "stream",
          "name": "stdout",
          "text": [
            "Enter a number: 2\n",
            "The number is positive.\n"
          ]
        }
      ]
    },
    {
      "cell_type": "code",
      "source": [
        "# 12 Write a for loop to print numbers from 1 to 10?\n",
        "\n",
        "for i in range(1, 11):\n",
        "  print(i,end = \" \")"
      ],
      "metadata": {
        "colab": {
          "base_uri": "https://localhost:8080/"
        },
        "id": "T1Jrp-waBtaC",
        "outputId": "3b194959-126e-40c9-88f2-c27ab41cc76a"
      },
      "execution_count": 13,
      "outputs": [
        {
          "output_type": "stream",
          "name": "stdout",
          "text": [
            "1 2 3 4 5 6 7 8 9 10 "
          ]
        }
      ]
    },
    {
      "cell_type": "code",
      "source": [
        "# 13 Write a Python program to find the sum of all even numbers between 1 and 50?\n",
        "\n",
        "sum_of_evens = 0\n",
        "\n",
        "for number in range(1, 51):\n",
        "    if number % 2 == 0:\n",
        "        sum_of_evens += number\n",
        "\n",
        "print(\"The sum of all even numbers between 1 and 50 is:\", sum_of_evens)\n"
      ],
      "metadata": {
        "colab": {
          "base_uri": "https://localhost:8080/"
        },
        "id": "YlzjXl1qC2gS",
        "outputId": "cebf2b2d-030c-4f34-b284-948c12326f33"
      },
      "execution_count": 14,
      "outputs": [
        {
          "output_type": "stream",
          "name": "stdout",
          "text": [
            "The sum of all even numbers between 1 and 50 is: 650\n"
          ]
        }
      ]
    },
    {
      "cell_type": "code",
      "source": [
        "# 14 Write a program to reverse a string using a while loop?\n",
        "\n",
        "original_string = input(\"Enter a string: \")\n",
        "\n",
        "reversed_string = \"\"\n",
        "index = len(original_string) - 1\n",
        "\n",
        "while index >= 0:\n",
        "    reversed_string += original_string[index]\n",
        "    index -= 1\n",
        "\n",
        "print(\"Reversed string:\", reversed_string)\n"
      ],
      "metadata": {
        "colab": {
          "base_uri": "https://localhost:8080/"
        },
        "id": "xnfXB2ViDXaK",
        "outputId": "a6cee593-182b-4d4c-e39c-37d299211277"
      },
      "execution_count": 15,
      "outputs": [
        {
          "output_type": "stream",
          "name": "stdout",
          "text": [
            "Enter a string: aviral\n",
            "Reversed string: lariva\n"
          ]
        }
      ]
    },
    {
      "cell_type": "code",
      "source": [
        "# 15  Write a Python program to calculate the factorial of a number provided by the user using a while loop?\n",
        "\n",
        "\n",
        "number = int(input(\"Enter a number: \"))\n",
        "\n",
        "factorial = 1\n",
        "current = number\n",
        "\n",
        "if number < 0:\n",
        "    print(\"Factorial is not defined for negative numbers.\")\n",
        "else:\n",
        "    while current > 0:\n",
        "        factorial *= current\n",
        "        current -= 1\n",
        "\n",
        "    print(f\"The factorial of {number} is: {factorial}\")\n"
      ],
      "metadata": {
        "colab": {
          "base_uri": "https://localhost:8080/"
        },
        "id": "8DkjqDWUD5Dh",
        "outputId": "152fa787-6191-492e-951b-468b05eb8b82"
      },
      "execution_count": 17,
      "outputs": [
        {
          "output_type": "stream",
          "name": "stdout",
          "text": [
            "Enter a number: 25\n",
            "The factorial of 25 is: 15511210043330985984000000\n"
          ]
        }
      ]
    }
  ]
}